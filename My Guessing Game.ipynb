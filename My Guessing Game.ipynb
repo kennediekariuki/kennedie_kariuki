#!/usr/bin/env python
# coding: utf-8

# In[14]:


import random


# In[15]:


true_number = random.randint(1, 50)


# In[16]:


true_number


# In[17]:


print ("Welcome to my guessing game. Enter a between 1 and 50 to start playing.")
guess_number = int(input("Enter your guess number here: "))


# In[18]:


while True:
    if guess_number == true_number:
        print ("Congratukations. You guessed right.")
        break
    elif guess_number < true_number:
        print ("Your guess was low. Enter a higher number to try again.")
        guess_number = int(input("Enter your guess number here: "))
    elif guess_number > true_number:
        print ("Your guess was high. Enter a lower number to try again.")
        guess_number = int(input("Enter your guess number here: "))


# In[ ]:





# In[ ]:




